{
 "cells": [
  {
   "cell_type": "code",
   "execution_count": 1,
   "metadata": {},
   "outputs": [],
   "source": [
    "import bs4 as bs"
   ]
  },
  {
   "cell_type": "code",
   "execution_count": 2,
   "metadata": {},
   "outputs": [],
   "source": [
    "import urllib.request"
   ]
  },
  {
   "cell_type": "code",
   "execution_count": 6,
   "metadata": {},
   "outputs": [],
   "source": [
    "scr=urllib.request.urlopen('https://www.superdatascience.com/').read()"
   ]
  },
  {
   "cell_type": "code",
   "execution_count": 8,
   "metadata": {},
   "outputs": [],
   "source": [
    "bsoup=bs.BeautifulSoup(scr,'lxml')"
   ]
  },
  {
   "cell_type": "code",
   "execution_count": 9,
   "metadata": {},
   "outputs": [
    {
     "data": {
      "text/plain": [
       "<!DOCTYPE html>\n",
       "<html lang=\"en\">\n",
       "<head>\n",
       "<link class=\"__meteor-css__\" href=\"/bede4c43c5353ef553a2bf69fe7b92a61a88cc5a.css?meteor_css_resource=true\" rel=\"stylesheet\" type=\"text/css\"/>\n",
       "<meta charset=\"utf-8\"/>\n",
       "<meta content=\"width=device-width, initial-scale=1, shrink-to-fit=no\" name=\"viewport\"/>\n",
       "<meta content=\"#228ae6\" name=\"theme-color\"/>\n",
       "<link href=\"/favicon.png\" rel=\"shortcut icon\" type=\"image/png\"/>\n",
       "<link href=\"/apple-touch-icon-precomposed.png\" rel=\"apple-touch-icon\"/>\n",
       "<link href=\"/manifest.json\" rel=\"manifest\"/>\n",
       "<title>SuperDataScience</title>\n",
       "<script> window.prerenderReady = false; </script> <!-- Tells pre-render not to cache yet. -->\n",
       "<!-- Facebook Pixel Code -->\n",
       "<script>\n",
       "\t\t!function(f,b,e,v,n,t,s){if(f.fbq)return;n=f.fbq=function(){n.callMethod?\n",
       "\t\tn.callMethod.apply(n,arguments):n.queue.push(arguments)};if(!f._fbq)f._fbq=n;\n",
       "\t\tn.push=n;n.loaded=!0;n.version='2.0';n.queue=[];t=b.createElement(e);t.async=!0;\n",
       "\t\tt.src=v;s=b.getElementsByTagName(e)[0];s.parentNode.insertBefore(t,s)}(window,\n",
       "\t\tdocument,'script','https://connect.facebook.net/en_US/fbevents.js');\n",
       "\t\tfbq('init', '1652381645053689'); // Insert your pixel ID here.\n",
       "\t\tfbq('track', 'PageView');\n",
       "\t</script>\n",
       "<noscript><img height=\"1\" src=\"https://www.facebook.com/tr?id=1652381645053689&amp;ev=PageView&amp;noscript=1\" style=\"display:none\" width=\"1\"/></noscript>\n",
       "<!-- Global site tag (gtag.js) - AdWords: 837004861 -->\n",
       "<script async=\"\" src=\"https://www.googletagmanager.com/gtag/js?id=AW-837004861\"></script>\n",
       "<script>\n",
       "\t\twindow.dataLayer = window.dataLayer || [];\n",
       "\t\tfunction gtag(){dataLayer.push(arguments);}\n",
       "\t\tgtag('js', new Date());\n",
       "\t\tgtag('config', 'AW-837004861');\n",
       "\t</script>\n",
       "<!-- Global site tag (gtag.js) - Google Analytics -->\n",
       "<script async=\"\" src=\"https://www.googletagmanager.com/gtag/js?id=UA-53887001-13\"></script>\n",
       "<script>\n",
       "\t\twindow.dataLayer = window.dataLayer || [];\n",
       "\t\tfunction gtag(){dataLayer.push(arguments);}\n",
       "\t\tgtag('js', new Date());\n",
       "\t\tgtag('config', 'UA-53887001-13', { 'optimize_id': 'GTM-5HD3RR6'});\n",
       "\t</script>\n",
       "<link href=\"https://fonts.googleapis.com/icon?family=Material+Icons\" rel=\"stylesheet\"/>\n",
       "<script async=\"async\" src=\"https://cdn.jwplayer.com/libraries/E37GvLkJ.js\"></script> <!-- JWPlayer -->\n",
       "<!-- This site is converting visitors into subscribers and customers with OptinMonster - https://optinmonster.com -->\n",
       "<script async=\"\" data-account=\"51992\" data-user=\"45908\" src=\"https://a.optmnstr.com/app/js/api.min.js\" type=\"text/javascript\"></script>\n",
       "</head>\n",
       "<body>\n",
       "<script type=\"text/javascript\">__meteor_runtime_config__ = JSON.parse(decodeURIComponent(\"%7B%22meteorRelease%22%3A%22METEOR%401.10.2%22%2C%22gitCommitHash%22%3A%222fe0b3b970c3a87a1716011e3c48798bf8f23a44%22%2C%22meteorEnv%22%3A%7B%22NODE_ENV%22%3A%22production%22%2C%22TEST_METADATA%22%3A%22%7B%7D%22%7D%2C%22PUBLIC_SETTINGS%22%3A%7B%22promotionalCodes%22%3A%5B%7B%22code%22%3A%22datarockstar%22%2C%22roles%22%3A%5B%22book_cds%22%5D%7D%5D%2C%22platformRoles%22%3A%5B%7B%22role%22%3A%22guest%22%2C%22name%22%3A%22Free%22%7D%2C%7B%22role%22%3A%22payer%22%2C%22name%22%3A%22Payers%22%7D%2C%7B%22role%22%3A%22admin%22%2C%22name%22%3A%22Administrators%22%7D%2C%7B%22role%22%3A%22book_cds%22%2C%22name%22%3A%22Book%20CDS%22%7D%2C%7B%22role%22%3A%22mashable_bundle_1%22%2C%22name%22%3A%22Mashable%20Bundle%201%22%7D%5D%2C%22price%22%3A%7B%22month%22%3A%2235.00%22%2C%22year%22%3A%22276.00%22%7D%7D%2C%22ROOT_URL%22%3A%22https%3A%2F%2Fwww.superdatascience.com%22%2C%22ROOT_URL_PATH_PREFIX%22%3A%22%22%2C%22autoupdate%22%3A%7B%22versions%22%3A%7B%22web.browser%22%3A%7B%22version%22%3A%22f5b5266d6953cbc765d10dbb4c5c7b4d8e1aeee6%22%2C%22versionRefreshable%22%3A%227da6fefa8ee9faa05012723a0b71416d0830e44b%22%2C%22versionNonRefreshable%22%3A%2256d44f53639f94fd732693591b3ebc328a724284%22%7D%2C%22web.browser.legacy%22%3A%7B%22version%22%3A%22091fe09307f1d76d5bde79b8379036fd1d5ad6c7%22%2C%22versionRefreshable%22%3A%227da6fefa8ee9faa05012723a0b71416d0830e44b%22%2C%22versionNonRefreshable%22%3A%22a04496953845f0801e032cde7b01b9d3e790313e%22%7D%7D%2C%22autoupdateVersion%22%3Anull%2C%22autoupdateVersionRefreshable%22%3Anull%2C%22autoupdateVersionCordova%22%3Anull%2C%22appId%22%3A%22not499zhpyxm.zvlnxu93xyus%22%7D%2C%22appId%22%3A%22not499zhpyxm.zvlnxu93xyus%22%2C%22isModern%22%3Afalse%7D\"))</script>\n",
       "<script src=\"/3281610a2412cbf61f962060fdcba8409543e26b.js?meteor_js_resource=true\" type=\"text/javascript\"></script>\n",
       "</body>\n",
       "</html>"
      ]
     },
     "execution_count": 9,
     "metadata": {},
     "output_type": "execute_result"
    }
   ],
   "source": [
    "bsoup"
   ]
  },
  {
   "cell_type": "code",
   "execution_count": 11,
   "metadata": {},
   "outputs": [],
   "source": [
    "for link in bsoup.find_all('a'):\n",
    "    print(link.get('href'))"
   ]
  },
  {
   "cell_type": "code",
   "execution_count": 12,
   "metadata": {},
   "outputs": [],
   "source": [
    "bsoup.p"
   ]
  },
  {
   "cell_type": "code",
   "execution_count": null,
   "metadata": {},
   "outputs": [],
   "source": []
  }
 ],
 "metadata": {
  "kernelspec": {
   "display_name": "Python 3",
   "language": "python",
   "name": "python3"
  },
  "language_info": {
   "codemirror_mode": {
    "name": "ipython",
    "version": 3
   },
   "file_extension": ".py",
   "mimetype": "text/x-python",
   "name": "python",
   "nbconvert_exporter": "python",
   "pygments_lexer": "ipython3",
   "version": "3.7.6"
  }
 },
 "nbformat": 4,
 "nbformat_minor": 4
}
